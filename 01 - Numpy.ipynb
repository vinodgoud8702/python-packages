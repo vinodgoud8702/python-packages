{
 "cells": [
  {
   "cell_type": "markdown",
   "id": "d767c477-1bac-4607-b72f-ffae26283f95",
   "metadata": {},
   "source": [
    "# NumPy"
   ]
  },
  {
   "cell_type": "markdown",
   "id": "291a98b0-7384-4d94-9de1-b82ed56446ed",
   "metadata": {},
   "source": [
    "- NumPy is a Python library used for working with arrays.\r\n",
    "- \r\n",
    "It also has functions for working in domain of linear algebra, fourier transform, and matrices.- NumPy was created in 2005 by Travis Oliphant. It is an open source project and you can use it freely.\n",
    "\n",
    "- NumPy stands for Numerical Python.\n",
    "\n",
    "- NumPy (Numerical Python) is an open source Python library that’s widely used in science and engineering.\n",
    "\n",
    "-   The NumPy library contains multidimensional array data structures, such as the homogeneous, N-dimensional ndarray, and a large library of functions that operate efficiently on these data structures. ython."
   ]
  },
  {
   "cell_type": "markdown",
   "id": "7e3b880c-cb3f-4f62-818c-819064d940da",
   "metadata": {},
   "source": [
    "## Installation of NumPy"
   ]
  },
  {
   "cell_type": "markdown",
   "id": "fe0ad928-847d-4872-b9d2-2d99fe127b67",
   "metadata": {},
   "source": [
    "- If you have Python and PIP already installed on a system, then installation of NumPy is very easy.\r\n",
    "- \r\n",
    "Install it using this command:"
   ]
  },
  {
   "cell_type": "code",
   "execution_count": 3,
   "id": "5fd426ad-e637-40bd-bfe7-74b2a721203f",
   "metadata": {},
   "outputs": [
    {
     "name": "stdout",
     "output_type": "stream",
     "text": [
      "Requirement already satisfied: numpy in c:\\users\\devad\\anaconda3\\lib\\site-packages (1.26.4)\n"
     ]
    }
   ],
   "source": [
    "!pip install numpy"
   ]
  },
  {
   "cell_type": "markdown",
   "id": "49919d43-aca2-46ae-95c2-01617d4fb75e",
   "metadata": {},
   "source": [
    "## How to import NumPy"
   ]
  },
  {
   "cell_type": "markdown",
   "id": "c166a913-5e8c-470f-9e15-4119f0a53bfb",
   "metadata": {},
   "source": [
    "- Once NumPy is installed, import it in your applications by adding the `import` keyword:"
   ]
  },
  {
   "cell_type": "code",
   "execution_count": 2,
   "id": "3dfe9ed1-7336-4cdd-915b-bf205af4b85e",
   "metadata": {},
   "outputs": [],
   "source": [
    "import numpy"
   ]
  },
  {
   "cell_type": "code",
   "execution_count": 3,
   "id": "209b9ee7-5253-46dc-99d4-196683eca337",
   "metadata": {},
   "outputs": [
    {
     "data": {
      "text/plain": [
       "array([1, 2, 3, 4, 5, 6, 7])"
      ]
     },
     "execution_count": 3,
     "metadata": {},
     "output_type": "execute_result"
    }
   ],
   "source": [
    "import numpy\n",
    "\n",
    "arr = numpy.array([1,2,3,4,5,6,7])\n",
    "\n",
    "arr"
   ]
  },
  {
   "cell_type": "markdown",
   "id": "76502d27-1c9d-4eaa-88c2-8fdaf8e402c1",
   "metadata": {},
   "source": [
    "## NumPy as np"
   ]
  },
  {
   "cell_type": "markdown",
   "id": "0a995b1c-31aa-475b-9956-e2b524f52cf2",
   "metadata": {},
   "source": [
    "- NumPy is usually imported under the `np` alias.\n",
    "\n",
    "- __alias__: In Python alias are an alternate name for referring to the same thing.\n",
    "\n",
    "- Create an alias with the `as` keyword while importing:"
   ]
  },
  {
   "cell_type": "code",
   "execution_count": 5,
   "id": "236e7b57-4e4d-44d7-9123-9db0d98d6d44",
   "metadata": {},
   "outputs": [
    {
     "name": "stdout",
     "output_type": "stream",
     "text": [
      "[1 2 3 4 5]\n"
     ]
    }
   ],
   "source": [
    "import numpy as np\n",
    "\n",
    "arr = np.array([1, 2, 3, 4, 5])\n",
    "\n",
    "print(arr)"
   ]
  },
  {
   "cell_type": "markdown",
   "id": "8fbf3b2f-a9d8-476a-9208-4d8f30a524fe",
   "metadata": {},
   "source": [
    "This widespread convention allows access to NumPy features with a short, recognizable prefix (`np.`) while distinguishing NumPy features from others that have the same name."
   ]
  },
  {
   "cell_type": "markdown",
   "id": "3de7c25f-43fc-4cc8-be84-e2d1f0d8b503",
   "metadata": {},
   "source": [
    "## Why use NumPy?"
   ]
  },
  {
   "cell_type": "markdown",
   "id": "d0f475c3-fa5e-440d-ab25-03e3d814997a",
   "metadata": {},
   "source": [
    "Python lists are excellent, general-purpose containers. They can be “heterogeneous”, meaning that they can contain elements of a variety of types, and they are quite fast when used to perform individual operations on a handful of elements.\n",
    "\n",
    "Depending on the characteristics of the data and the types of operations that need to be performed, other containers may be more appropriate; by exploiting these characteristics, we can improve speed, reduce memory consumption, and offer a high-level syntax for performing a variety of common processing tasks. NumPy shines when there are large quantities of “homogeneous” (same-type) data to be processed on the CPU."
   ]
  },
  {
   "cell_type": "markdown",
   "id": "b11adc10-1bf2-4a39-8e5f-e4328f57779f",
   "metadata": {},
   "source": [
    "## What is an “array”?"
   ]
  },
  {
   "cell_type": "markdown",
   "id": "a310ad8e-20c7-4b5b-8734-a4f60ee37140",
   "metadata": {},
   "source": [
    "In computer programming, an array is a structure for storing and retrieving data. We often talk about an array as if it were a grid in space, with each cell storing one element of the data. For instance, if each element of the data were a number."
   ]
  },
  {
   "cell_type": "markdown",
   "id": "96c4fe14-940e-436c-ad6b-0a13155a7beb",
   "metadata": {},
   "source": [
    "## Dimensions in Arrays"
   ]
  },
  {
   "cell_type": "markdown",
   "id": "c884464d-05d6-4d9b-8fd3-90a079b5a018",
   "metadata": {},
   "source": [
    "- A dimension in arrays is one level of array depth (nested arrays).\n",
    "\n",
    "- __nested array__: are arrays that have arrays as their elements."
   ]
  },
  {
   "cell_type": "markdown",
   "id": "e07e5bee-2dd9-48ef-a396-fd5e83a277cf",
   "metadata": {},
   "source": [
    "### 0-D Arrays"
   ]
  },
  {
   "cell_type": "markdown",
   "id": "f67abb77-8c38-4e49-98b2-94fb7806238e",
   "metadata": {},
   "source": [
    "0-D arrays, or Scalars, are the elements in an array. Each value in an array is a 0-D array."
   ]
  },
  {
   "cell_type": "code",
   "execution_count": 5,
   "id": "f0cc41c6-893a-48d2-abcc-2918bc8ab7b6",
   "metadata": {},
   "outputs": [
    {
     "name": "stdout",
     "output_type": "stream",
     "text": [
      "42\n"
     ]
    }
   ],
   "source": [
    "import numpy as np\n",
    "\n",
    "arr = np.array(42)\n",
    "\n",
    "print(arr)"
   ]
  },
  {
   "cell_type": "markdown",
   "id": "d783566d-42f0-47a4-8d0a-19ba57430bb1",
   "metadata": {},
   "source": [
    "### 1-D Arrays"
   ]
  },
  {
   "cell_type": "markdown",
   "id": "4a4ca11b-d6c7-477e-b1fc-13ab86406e06",
   "metadata": {},
   "source": [
    "An array that has 0-D arrays as its elements is called uni-dimensional or 1-D array.\n",
    "\n",
    "These are the most common and basic arrays."
   ]
  },
  {
   "cell_type": "code",
   "execution_count": 6,
   "id": "3fca4e2d-762c-4fc0-8e11-84627c04823d",
   "metadata": {},
   "outputs": [
    {
     "name": "stdout",
     "output_type": "stream",
     "text": [
      "[1 2 3 4 5]\n"
     ]
    }
   ],
   "source": [
    "import numpy as np\n",
    "\n",
    "arr = np.array([1, 2, 3, 4, 5])\n",
    "\n",
    "print(arr)"
   ]
  },
  {
   "cell_type": "markdown",
   "id": "8f0d346a-e407-46ad-a635-cf3499ddf99e",
   "metadata": {},
   "source": [
    "### 2-D Arrays"
   ]
  },
  {
   "cell_type": "markdown",
   "id": "1767eaf5-1815-41d0-8b97-22a3f9d8dee8",
   "metadata": {},
   "source": [
    "An array that has 1-D arrays as its elements is called a 2-D array.\r\n",
    "\r\n",
    "These are often used to represent matrix or 2nd order tensors."
   ]
  },
  {
   "cell_type": "code",
   "execution_count": 7,
   "id": "92664103-3a4c-48d8-9186-32640823c856",
   "metadata": {},
   "outputs": [
    {
     "name": "stdout",
     "output_type": "stream",
     "text": [
      "[[1 2 3]\n",
      " [4 5 6]]\n"
     ]
    }
   ],
   "source": [
    "import numpy as np\n",
    "\n",
    "arr = np.array([[1, 2, 3], [4, 5, 6]])\n",
    "\n",
    "print(arr)"
   ]
  },
  {
   "cell_type": "markdown",
   "id": "92fa7020-3089-40a7-8ab3-055888dab628",
   "metadata": {},
   "source": [
    "### 3-D arrays"
   ]
  },
  {
   "cell_type": "markdown",
   "id": "e8531a09-b834-4969-bfc6-9c8d044c5a43",
   "metadata": {},
   "source": [
    "An array that has 2-D arrays (matrices) as its elements is called 3-D array.\r\n",
    "\r\n",
    "These are often used to represent a 3rd order tensor."
   ]
  },
  {
   "cell_type": "code",
   "execution_count": 8,
   "id": "658e48f1-5ecd-4f76-87a1-e8dbd4aa2b94",
   "metadata": {},
   "outputs": [
    {
     "name": "stdout",
     "output_type": "stream",
     "text": [
      "[[[1 2 3]\n",
      "  [4 5 6]]\n",
      "\n",
      " [[1 2 3]\n",
      "  [4 5 6]]]\n"
     ]
    }
   ],
   "source": [
    "import numpy as np\n",
    "\n",
    "arr = np.array([[[1, 2, 3], [4, 5, 6]], [[1, 2, 3], [4, 5, 6]]])\n",
    "\n",
    "print(arr)"
   ]
  },
  {
   "cell_type": "markdown",
   "id": "0a9cb296-43ef-4f3a-8370-823cd078d41b",
   "metadata": {},
   "source": [
    "## NumPy Array Indexing"
   ]
  },
  {
   "cell_type": "markdown",
   "id": "fe1349c9-23f8-4783-a757-fdc2f3f32acf",
   "metadata": {},
   "source": [
    "- Array indexing is the same as accessing an array element.\n",
    "\n",
    "- You can access an array element by referring to its index number.\n",
    "\n",
    "- The indexes in NumPy arrays start with 0, meaning that the first element has index 0, and the second has index 1 etc."
   ]
  },
  {
   "cell_type": "code",
   "execution_count": 9,
   "id": "4b16dcba-8542-40f9-bba7-7f787d2fa2b4",
   "metadata": {},
   "outputs": [
    {
     "name": "stdout",
     "output_type": "stream",
     "text": [
      "1\n"
     ]
    }
   ],
   "source": [
    "import numpy as np\n",
    "\n",
    "arr = np.array([1, 2, 3, 4])\n",
    "\n",
    "print(arr[0])"
   ]
  },
  {
   "cell_type": "code",
   "execution_count": 10,
   "id": "f5896ae8-8665-44bb-b9e2-8fa0f937f422",
   "metadata": {},
   "outputs": [
    {
     "name": "stdout",
     "output_type": "stream",
     "text": [
      "3\n"
     ]
    }
   ],
   "source": [
    "import numpy as np\n",
    "\n",
    "arr = np.array([1, 2, 3, 4])\n",
    "\n",
    "print(arr[2])"
   ]
  },
  {
   "cell_type": "markdown",
   "id": "678d665c-2b0d-4f2c-9be5-d1e6ed8c00bd",
   "metadata": {},
   "source": [
    "### Access 2-D Arrays"
   ]
  },
  {
   "cell_type": "markdown",
   "id": "1f7fbe10-8f22-4cf3-ad1a-2fdfdea88cf6",
   "metadata": {},
   "source": [
    "To access elements from 2-D arrays we can use comma separated integers representing the dimension and the index of the element.\r\n",
    "\r\n",
    "Think of 2-D arrays like a table with rows and columns, where the dimension represents the row and the index represents the column."
   ]
  },
  {
   "cell_type": "code",
   "execution_count": 11,
   "id": "b760b6bb-6585-47de-b9c2-f4e8dbe6f26f",
   "metadata": {},
   "outputs": [
    {
     "name": "stdout",
     "output_type": "stream",
     "text": [
      "2nd element on 1st row:  2\n"
     ]
    }
   ],
   "source": [
    "import numpy as np\n",
    "\n",
    "arr = np.array([[1,2,3,4,5], [6,7,8,9,10]])\n",
    "\n",
    "print('2nd element on 1st row: ', arr[0, 1])"
   ]
  },
  {
   "cell_type": "code",
   "execution_count": 12,
   "id": "9608ea59-d4ec-4e8a-8f51-d91937a8ad64",
   "metadata": {},
   "outputs": [
    {
     "name": "stdout",
     "output_type": "stream",
     "text": [
      "5th element on 2nd row:  10\n"
     ]
    }
   ],
   "source": [
    "import numpy as np\n",
    "\n",
    "arr = np.array([[1,2,3,4,5], [6,7,8,9,10]])\n",
    "\n",
    "print('5th element on 2nd row: ', arr[1, 4])"
   ]
  },
  {
   "cell_type": "markdown",
   "id": "25e155a3-4378-4237-9c59-d91e6c924839",
   "metadata": {},
   "source": [
    "### Access 3-D Arrays"
   ]
  },
  {
   "cell_type": "markdown",
   "id": "0e81fce1-1538-4ebf-bbec-dd54d286d3f9",
   "metadata": {},
   "source": [
    "To access elements from 3-D arrays we can use comma separated integers representing the dimensions and the index of the element."
   ]
  },
  {
   "cell_type": "code",
   "execution_count": 13,
   "id": "d958ab8f-fc54-4082-b778-b5f0a37751bc",
   "metadata": {},
   "outputs": [
    {
     "name": "stdout",
     "output_type": "stream",
     "text": [
      "6\n"
     ]
    }
   ],
   "source": [
    "import numpy as np\n",
    "\n",
    "arr = np.array([[[1, 2, 3],\n",
    "                 [4, 5, 6]],\n",
    "                \n",
    "                [[7, 8, 9],\n",
    "                 [10, 11, 12]]])\n",
    "\n",
    "print(arr[0, 1, 2]) # (shape, row, col)"
   ]
  },
  {
   "cell_type": "code",
   "execution_count": 14,
   "id": "3f650056-b118-4627-923a-20cf8743ee6a",
   "metadata": {},
   "outputs": [
    {
     "name": "stdout",
     "output_type": "stream",
     "text": [
      "Last element from 2nd dim:  10\n"
     ]
    }
   ],
   "source": [
    "import numpy as np\n",
    "\n",
    "arr = np.array([[1,2,3,4,5], [6,7,8,9,10]])\n",
    "\n",
    "print('Last element from 2nd dim: ', arr[1, -1])"
   ]
  },
  {
   "cell_type": "markdown",
   "id": "345bf871-828f-4302-aa70-284b20cc6ebf",
   "metadata": {},
   "source": [
    "## NumPy Array Slicing"
   ]
  },
  {
   "cell_type": "markdown",
   "id": "d364a138-7474-4bef-b6f3-b67d89e119b7",
   "metadata": {},
   "source": [
    "- Slicing in python means taking elements from one given index to another given index.\n",
    "\n",
    "- We pass slice instead of index like this: `[start:end]`.\n",
    "\n",
    "- We can also define the step, like this: `[start:end:step]`.\n",
    "\n",
    "- If we don't pass start its considered 0\n",
    "\n",
    "- If we don't pass end its considered length of array in that dimension\n",
    "\n",
    "- If we don't pass step its considered 1"
   ]
  },
  {
   "cell_type": "code",
   "execution_count": 15,
   "id": "27211715-9c48-41ef-980c-9bf4a147556a",
   "metadata": {},
   "outputs": [
    {
     "name": "stdout",
     "output_type": "stream",
     "text": [
      "[2 3 4 5]\n"
     ]
    }
   ],
   "source": [
    "import numpy as np\n",
    "\n",
    "arr = np.array([1, 2, 3, 4, 5, 6, 7])\n",
    "\n",
    "print(arr[1:5])"
   ]
  },
  {
   "cell_type": "code",
   "execution_count": 16,
   "id": "aaa32bf9-f045-4281-89fc-12c540d464f2",
   "metadata": {},
   "outputs": [
    {
     "name": "stdout",
     "output_type": "stream",
     "text": [
      "[5 6 7]\n"
     ]
    }
   ],
   "source": [
    "import numpy as np\n",
    "\n",
    "arr = np.array([1, 2, 3, 4, 5, 6, 7])\n",
    "\n",
    "print(arr[4:])"
   ]
  },
  {
   "cell_type": "code",
   "execution_count": 17,
   "id": "001158ba-1620-4b34-a918-46fbb0028ff8",
   "metadata": {},
   "outputs": [
    {
     "name": "stdout",
     "output_type": "stream",
     "text": [
      "[5 6]\n"
     ]
    }
   ],
   "source": [
    "import numpy as np\n",
    "\n",
    "arr = np.array([1, 2, 3, 4, 5, 6, 7])\n",
    "\n",
    "print(arr[-3:-1])"
   ]
  },
  {
   "cell_type": "code",
   "execution_count": 21,
   "id": "bb191d9c-4ed0-4f11-9cdf-6416e85861c7",
   "metadata": {},
   "outputs": [
    {
     "name": "stdout",
     "output_type": "stream",
     "text": [
      "[2 4 6]\n"
     ]
    }
   ],
   "source": [
    "# Use the step value to determine the step of the slicing:\n",
    "\n",
    "import numpy as np\n",
    "\n",
    "arr = np.array([1, 2, 3, 4, 5, 6, 7])\n",
    "\n",
    "print(arr[1:7:2])"
   ]
  },
  {
   "cell_type": "code",
   "execution_count": 22,
   "id": "a19c2182-46d9-4cb7-8a4c-b9e510f80d9f",
   "metadata": {},
   "outputs": [
    {
     "name": "stdout",
     "output_type": "stream",
     "text": [
      "[1 3 5 7]\n"
     ]
    }
   ],
   "source": [
    "import numpy as np\n",
    "\n",
    "arr = np.array([1, 2, 3, 4, 5, 6, 7])\n",
    "\n",
    "print(arr[::2])"
   ]
  },
  {
   "cell_type": "code",
   "execution_count": 24,
   "id": "24332d14-9b4f-4423-bc3b-1a1553dd7af8",
   "metadata": {},
   "outputs": [
    {
     "name": "stdout",
     "output_type": "stream",
     "text": [
      "[7 8 9]\n"
     ]
    }
   ],
   "source": [
    "# Slicing 2-D Arrays Example From the second element, slice elements from index 1 to index 4 (not included):\n",
    "\n",
    "import numpy as np\n",
    "\n",
    "arr = np.array([[1, 2, 3, 4, 5], [6, 7, 8, 9, 10]])\n",
    "\n",
    "print(arr[1, 1:4])"
   ]
  },
  {
   "cell_type": "code",
   "execution_count": 25,
   "id": "255a13cb-2f39-4797-99b6-5f0a11867225",
   "metadata": {},
   "outputs": [
    {
     "name": "stdout",
     "output_type": "stream",
     "text": [
      "[[2 3 4]\n",
      " [7 8 9]]\n"
     ]
    }
   ],
   "source": [
    "import numpy as np\n",
    "\n",
    "arr = np.array([[1, 2, 3, 4, 5], [6, 7, 8, 9, 10]])\n",
    "\n",
    "print(arr[0:2, 1:4])"
   ]
  },
  {
   "cell_type": "markdown",
   "id": "1c29c9e6-f188-43a8-abc8-9724082810ff",
   "metadata": {},
   "source": [
    "## Array attributes"
   ]
  },
  {
   "cell_type": "markdown",
   "id": "52b74139-5dff-4275-a6c8-d00dde136c2c",
   "metadata": {},
   "source": [
    "This section covers the `ndim`, `shape`, `size`, and `dtype` attributes of an array."
   ]
  },
  {
   "cell_type": "markdown",
   "id": "7c0d87bf-15ef-4a73-9464-3e68cb95ad4e",
   "metadata": {},
   "source": [
    "- The number of dimensions of an array is contained in the `ndim` attribute."
   ]
  },
  {
   "cell_type": "code",
   "execution_count": 26,
   "id": "219d7d9b-77e3-42b5-abc1-f97f31738d40",
   "metadata": {},
   "outputs": [
    {
     "data": {
      "text/plain": [
       "1"
      ]
     },
     "execution_count": 26,
     "metadata": {},
     "output_type": "execute_result"
    }
   ],
   "source": [
    "import numpy as np\n",
    "\n",
    "arr = np.array([1, 2, 3, 4])\n",
    "\n",
    "arr.ndim"
   ]
  },
  {
   "cell_type": "markdown",
   "id": "d945724c-6552-47b6-bcba-c3ac3dd15de1",
   "metadata": {},
   "source": [
    "- The shape of an array is a tuple of non-negative integers that specify the number of elements along each dimension."
   ]
  },
  {
   "cell_type": "code",
   "execution_count": 27,
   "id": "b7d0bffa-1a0a-423d-ae5f-66a8bc34869c",
   "metadata": {},
   "outputs": [
    {
     "data": {
      "text/plain": [
       "(3, 4)"
      ]
     },
     "execution_count": 27,
     "metadata": {},
     "output_type": "execute_result"
    }
   ],
   "source": [
    "a = np.array([[1, 2, 3, 4], [5, 6, 7, 8], [9, 10, 11, 12]])\n",
    "a.shape"
   ]
  },
  {
   "cell_type": "markdown",
   "id": "d454ffe0-153d-4acf-b939-2361201b6acb",
   "metadata": {},
   "source": [
    "- The fixed, total number of elements in array is contained in the `size` attribute."
   ]
  },
  {
   "cell_type": "code",
   "execution_count": 28,
   "id": "503914bb-071b-4ad4-8a04-e6e5061dc541",
   "metadata": {},
   "outputs": [
    {
     "data": {
      "text/plain": [
       "12"
      ]
     },
     "execution_count": 28,
     "metadata": {},
     "output_type": "execute_result"
    }
   ],
   "source": [
    "a.size"
   ]
  },
  {
   "cell_type": "code",
   "execution_count": 29,
   "id": "cd7a0bb6-c2fe-465f-867e-df0f64639580",
   "metadata": {},
   "outputs": [
    {
     "data": {
      "text/plain": [
       "True"
      ]
     },
     "execution_count": 29,
     "metadata": {},
     "output_type": "execute_result"
    }
   ],
   "source": [
    "import math\n",
    "a.size == math.prod(a.shape)"
   ]
  },
  {
   "cell_type": "markdown",
   "id": "d4186f7e-d173-41ae-bede-96e3078aa5ba",
   "metadata": {},
   "source": [
    "- Arrays are typically “homogeneous”, meaning that they contain elements of only one “data type”. The data type is recorded in the `dtype` attribute."
   ]
  },
  {
   "cell_type": "code",
   "execution_count": 31,
   "id": "7bd48517-baa4-4c04-8a32-7e8c0d967d86",
   "metadata": {},
   "outputs": [
    {
     "data": {
      "text/plain": [
       "dtype('int32')"
      ]
     },
     "execution_count": 31,
     "metadata": {},
     "output_type": "execute_result"
    }
   ],
   "source": [
    "a.dtype"
   ]
  },
  {
   "cell_type": "markdown",
   "id": "9219bbc6-7d42-40b9-bb8b-fcf6c6e316bf",
   "metadata": {},
   "source": [
    "## How to create a basic array"
   ]
  },
  {
   "cell_type": "markdown",
   "id": "2f8e0518-d93f-4065-b05a-18bfbb6e2ddc",
   "metadata": {},
   "source": [
    "This section covers `np.zeros()`, `np.ones()`, `np.empty()`, `np.arange()`, `np.linspace()`."
   ]
  },
  {
   "cell_type": "markdown",
   "id": "796d3a9d-b41d-40ec-817c-307612bd4b18",
   "metadata": {},
   "source": [
    "- Besides creating an array from a sequence of elements, you can easily create an array filled with `0`’s:"
   ]
  },
  {
   "cell_type": "code",
   "execution_count": 32,
   "id": "022ba513-5853-4337-9778-e932d9f22718",
   "metadata": {},
   "outputs": [
    {
     "data": {
      "text/plain": [
       "array([0., 0.])"
      ]
     },
     "execution_count": 32,
     "metadata": {},
     "output_type": "execute_result"
    }
   ],
   "source": [
    "np.zeros(2)"
   ]
  },
  {
   "cell_type": "code",
   "execution_count": 33,
   "id": "7b892270-67c5-44cd-af22-0f243a943cfe",
   "metadata": {},
   "outputs": [
    {
     "data": {
      "text/plain": [
       "array([[0., 0., 0., 0.],\n",
       "       [0., 0., 0., 0.],\n",
       "       [0., 0., 0., 0.]])"
      ]
     },
     "execution_count": 33,
     "metadata": {},
     "output_type": "execute_result"
    }
   ],
   "source": [
    "#Create an array of zeros\n",
    "np.zeros((3,4)) #creating 2D array"
   ]
  },
  {
   "cell_type": "markdown",
   "id": "04e925b3-107f-4f9a-9a03-317f21c0b3eb",
   "metadata": {},
   "source": [
    "- Or an array filled with `1`’s:"
   ]
  },
  {
   "cell_type": "code",
   "execution_count": 34,
   "id": "00ad71f1-b51e-4ef6-b245-44c4332dc455",
   "metadata": {},
   "outputs": [
    {
     "data": {
      "text/plain": [
       "array([1., 1.])"
      ]
     },
     "execution_count": 34,
     "metadata": {},
     "output_type": "execute_result"
    }
   ],
   "source": [
    "np.ones(2)"
   ]
  },
  {
   "cell_type": "code",
   "execution_count": 35,
   "id": "df2491c4-1f55-4311-99ce-175a48b96a72",
   "metadata": {},
   "outputs": [
    {
     "data": {
      "text/plain": [
       "array([[[1., 1., 1., 1.],\n",
       "        [1., 1., 1., 1.],\n",
       "        [1., 1., 1., 1.]],\n",
       "\n",
       "       [[1., 1., 1., 1.],\n",
       "        [1., 1., 1., 1.],\n",
       "        [1., 1., 1., 1.]]])"
      ]
     },
     "execution_count": 35,
     "metadata": {},
     "output_type": "execute_result"
    }
   ],
   "source": [
    "#Create an array of ones\n",
    "np.ones((2,3,4))"
   ]
  },
  {
   "cell_type": "markdown",
   "id": "a4c9e0c1-7126-4c5d-98a5-b83e83aa5c8a",
   "metadata": {},
   "source": [
    "Or even an empty array! The function `empty` creates an array whose initial content is random and depends on the state of the memory. The reason to use `empty` over `zeros` (or something similar) is speed - just make sure to fill every element afterwards!"
   ]
  },
  {
   "cell_type": "code",
   "execution_count": 41,
   "id": "f65e56da-ae08-49a9-909b-0014ab792334",
   "metadata": {},
   "outputs": [
    {
     "data": {
      "text/plain": [
       "array([1., 1.])"
      ]
     },
     "execution_count": 41,
     "metadata": {},
     "output_type": "execute_result"
    }
   ],
   "source": [
    "# Create an empty array with 2 elements\n",
    "np.empty(2)"
   ]
  },
  {
   "cell_type": "markdown",
   "id": "126c8dc7-e0d5-47c4-a2d5-cd0bb7755c4b",
   "metadata": {},
   "source": [
    "And even an array that contains a range of evenly spaced intervals. To do this, you will specify the first number, last number, and the step size."
   ]
  },
  {
   "cell_type": "code",
   "execution_count": 42,
   "id": "43bf2341-c515-4725-8752-f65eb7b77360",
   "metadata": {},
   "outputs": [
    {
     "name": "stdout",
     "output_type": "stream",
     "text": [
      "[10 12 14 16 18 20 22 24]\n"
     ]
    }
   ],
   "source": [
    "#Create an array of evenly spaced values (step value)\n",
    "d = np.arange(10,25,2)\n",
    "print(d)"
   ]
  },
  {
   "cell_type": "markdown",
   "id": "59a14bff-14b0-47b7-9677-3effe62a9c2e",
   "metadata": {},
   "source": [
    "You can also use `np.linspace()` to create an array with values that are spaced linearly in a specified interval:"
   ]
  },
  {
   "cell_type": "code",
   "execution_count": 43,
   "id": "544475ce-ac46-44f7-bd91-aae5da808bc3",
   "metadata": {},
   "outputs": [
    {
     "data": {
      "text/plain": [
       "array([ 0. ,  2.5,  5. ,  7.5, 10. ])"
      ]
     },
     "execution_count": 43,
     "metadata": {},
     "output_type": "execute_result"
    }
   ],
   "source": [
    "np.linspace(0, 10, num=5)"
   ]
  },
  {
   "cell_type": "markdown",
   "id": "fe71a8a8-2f63-48d0-aa8e-70f9ceda1551",
   "metadata": {},
   "source": [
    "## Data Types in NumPy"
   ]
  },
  {
   "cell_type": "markdown",
   "id": "a84cb269-f836-445b-9983-e23ea2d3241b",
   "metadata": {},
   "source": [
    "NumPy has some extra data types, and refer to data types with one character, like `i` for integers, `u` for unsigned integers etc.\r\n",
    "\r\n",
    "Below is a list of all data types in NumPy and the characters used to represent them."
   ]
  },
  {
   "cell_type": "markdown",
   "id": "975ee654-914a-4f2d-b074-12617a4f95e8",
   "metadata": {},
   "source": [
    "- `i` - integer\n",
    "  \n",
    "- `b` - boolean\n",
    "  \n",
    "- `u` - unsigned integer\n",
    "  \n",
    "- `f` - float\n",
    "  \n",
    "- `c` - complex float\n",
    "  \n",
    "- `m` - timedelta\n",
    "  \n",
    "- `M` - datetime\n",
    "  \n",
    "- `O` - object\n",
    "  \n",
    "- `S` - string\n",
    "  \n",
    "- `U` - unicode string\n",
    "  \n",
    "- `V` - fixed chunk of memory for other type ( void )"
   ]
  },
  {
   "cell_type": "code",
   "execution_count": 45,
   "id": "035088a1-49e7-46d1-89a9-86e47bf73506",
   "metadata": {},
   "outputs": [
    {
     "name": "stdout",
     "output_type": "stream",
     "text": [
      "[b'1' b'2' b'3' b'4']\n",
      "|S1\n"
     ]
    }
   ],
   "source": [
    "# String\n",
    "import numpy as np\n",
    "\n",
    "arr = np.array([1, 2, 3, 4], dtype='S')\n",
    "\n",
    "print(arr)\n",
    "print(arr.dtype)"
   ]
  },
  {
   "cell_type": "code",
   "execution_count": 46,
   "id": "da5bb4c5-1076-4b4a-8a25-b2a49bfc2485",
   "metadata": {},
   "outputs": [
    {
     "name": "stdout",
     "output_type": "stream",
     "text": [
      "[1 2 3 4]\n",
      "int32\n"
     ]
    }
   ],
   "source": [
    "# Integer\n",
    "import numpy as np\n",
    "\n",
    "arr = np.array([1, 2, 3, 4], dtype='i4')\n",
    "\n",
    "print(arr)\n",
    "print(arr.dtype)"
   ]
  },
  {
   "cell_type": "markdown",
   "id": "c6ce34a2-9e70-48e6-bbbe-266a49ba10df",
   "metadata": {},
   "source": [
    "### Converting Data Type on Existing Arrays"
   ]
  },
  {
   "cell_type": "markdown",
   "id": "be64da14-7cc2-428c-82d0-a25776081da7",
   "metadata": {},
   "source": [
    "- The best way to change the data type of an existing array, is to make a copy of the array with the `astype()` method.\n",
    "\n",
    "- The `astype()` function creates a copy of the array, and allows you to specify the data type as a parameter.\n",
    "\n",
    "- The data type can be specified using a string, like '`f`' for float, '`i`' for integer etc. or you can use the data type directly like float for `float` and `int` for integer."
   ]
  },
  {
   "cell_type": "code",
   "execution_count": 47,
   "id": "c9eadeb6-c3b2-4917-bc8f-254595fb9f9c",
   "metadata": {},
   "outputs": [
    {
     "name": "stdout",
     "output_type": "stream",
     "text": [
      "[1 2 3]\n",
      "int32\n"
     ]
    }
   ],
   "source": [
    "#Change data type from float to integer by using 'i' as parameter value:\n",
    "arr = np.array([1.1, 2.1, 3.1])\n",
    "\n",
    "newarr = arr.astype('i')\n",
    "\n",
    "print(newarr)\n",
    "print(newarr.dtype)"
   ]
  },
  {
   "cell_type": "code",
   "execution_count": 6,
   "id": "346c9c78-6aa6-4f51-9863-9ab72e45c1f7",
   "metadata": {},
   "outputs": [
    {
     "name": "stdout",
     "output_type": "stream",
     "text": [
      "[ True False  True]\n",
      "bool\n"
     ]
    }
   ],
   "source": [
    "#Change data type from integer to boolean:\n",
    "arr = np.array([-1, 0, 3])\n",
    "\n",
    "newarr = arr.astype(bool)\n",
    "\n",
    "print(newarr)\n",
    "print(newarr.dtype)"
   ]
  },
  {
   "cell_type": "markdown",
   "id": "7925ab52-6740-4934-8837-bf7aa31f5dde",
   "metadata": {},
   "source": [
    "## NumPy Array Copy vs View"
   ]
  },
  {
   "cell_type": "markdown",
   "id": "5c52f7b6-a6af-4a55-b424-f419777716d5",
   "metadata": {},
   "source": [
    "The main difference between a copy and a view of an array is that the copy is a new array, and the view is just a view of the original array.\n",
    "\n",
    "The copy owns the data and any changes made to the copy will not affect original array, and any changes made to the original array will not affect the copy.\n",
    "\n",
    "The view does not own the data and any changes made to the view will affect the original array, and any changes made to the original array will affect the view."
   ]
  },
  {
   "cell_type": "markdown",
   "id": "d57b4530-8278-412c-8207-c589de865d6a",
   "metadata": {},
   "source": [
    "### COPY:"
   ]
  },
  {
   "cell_type": "code",
   "execution_count": 49,
   "id": "fe1472ad-e80c-440f-971c-bd1cdaa7210b",
   "metadata": {},
   "outputs": [
    {
     "name": "stdout",
     "output_type": "stream",
     "text": [
      "[42  2  3  4  5]\n",
      "[1 2 3 4 5]\n"
     ]
    }
   ],
   "source": [
    "import numpy as np\n",
    "\n",
    "arr = np.array([1, 2, 3, 4, 5])\n",
    "x = arr.copy()\n",
    "arr[0] = 42\n",
    "\n",
    "print(arr)\n",
    "print(x)"
   ]
  },
  {
   "cell_type": "markdown",
   "id": "06d1d16f-c8f9-4131-8afe-3f425e1ba004",
   "metadata": {},
   "source": [
    "- __*Note__: The copy SHOULD NOT be affected by the changes made to the original array."
   ]
  },
  {
   "cell_type": "markdown",
   "id": "89a1c457-1e5d-47b1-b3c7-a73298be2864",
   "metadata": {},
   "source": [
    "### VIEW:"
   ]
  },
  {
   "cell_type": "code",
   "execution_count": 50,
   "id": "5778d041-da26-4258-8256-12f44d1e66b6",
   "metadata": {},
   "outputs": [
    {
     "name": "stdout",
     "output_type": "stream",
     "text": [
      "[42  2  3  4  5]\n",
      "[42  2  3  4  5]\n"
     ]
    }
   ],
   "source": [
    "import numpy as np\n",
    "\n",
    "arr = np.array([1, 2, 3, 4, 5])\n",
    "x = arr.view()\n",
    "arr[0] = 42\n",
    "\n",
    "print(arr)\n",
    "print(x)"
   ]
  },
  {
   "cell_type": "markdown",
   "id": "e8b9aa87-46ce-4242-8826-341590867120",
   "metadata": {},
   "source": [
    "- __*Note__: The view SHOULD be affected by the changes made to the original array."
   ]
  },
  {
   "cell_type": "code",
   "execution_count": 51,
   "id": "bd887f2d-3da0-43d2-b924-876b9b39c989",
   "metadata": {},
   "outputs": [
    {
     "name": "stdout",
     "output_type": "stream",
     "text": [
      "None\n",
      "[1 2 3 4 5]\n"
     ]
    }
   ],
   "source": [
    "import numpy as np\n",
    "\n",
    "arr = np.array([1, 2, 3, 4, 5])\n",
    "\n",
    "x = arr.copy()\n",
    "y = arr.view()\n",
    "\n",
    "print(x.base)\n",
    "print(y.base)"
   ]
  },
  {
   "cell_type": "markdown",
   "id": "d9612271-cf08-4f51-ab55-0ede8a9014ea",
   "metadata": {},
   "source": [
    "## Adding, removing, and sorting elements"
   ]
  },
  {
   "cell_type": "markdown",
   "id": "871cf6d6-e09e-4e64-9aca-da59cc06b766",
   "metadata": {},
   "source": [
    "This section covers `np.sort()`, `np.concatenate()`"
   ]
  },
  {
   "cell_type": "markdown",
   "id": "8c26d2a3-f34f-4fb5-a7bc-5ad64df296cd",
   "metadata": {},
   "source": [
    "- Sorting an array is simple with `np.sort()`. You can specify the axis, kind, and order when you call the function."
   ]
  },
  {
   "cell_type": "code",
   "execution_count": 52,
   "id": "42ae6bba-4503-4991-bd06-d0df35b3c781",
   "metadata": {},
   "outputs": [
    {
     "data": {
      "text/plain": [
       "array([1, 2, 3, 4, 5, 6, 7, 8])"
      ]
     },
     "execution_count": 52,
     "metadata": {},
     "output_type": "execute_result"
    }
   ],
   "source": [
    "arr = np.array([2, 1, 5, 3, 7, 4, 6, 8])\n",
    "np.sort(arr)"
   ]
  },
  {
   "cell_type": "markdown",
   "id": "5f4d1839-46dd-43eb-87d6-2257eb753ade",
   "metadata": {},
   "source": [
    "- You can concatenate them with `np.concatenate()`."
   ]
  },
  {
   "cell_type": "code",
   "execution_count": 53,
   "id": "656fa21a-18a6-4857-8285-0720eddcf684",
   "metadata": {},
   "outputs": [
    {
     "data": {
      "text/plain": [
       "array([1, 2, 3, 4, 5, 6, 7, 8])"
      ]
     },
     "execution_count": 53,
     "metadata": {},
     "output_type": "execute_result"
    }
   ],
   "source": [
    "a = np.array([1, 2, 3, 4])\n",
    "b = np.array([5, 6, 7, 8])\n",
    "np.concatenate((a, b))"
   ]
  },
  {
   "cell_type": "code",
   "execution_count": 11,
   "id": "454361d5-da55-491f-ae9a-44214d1f1425",
   "metadata": {},
   "outputs": [
    {
     "data": {
      "text/plain": [
       "array([[1, 2],\n",
       "       [3, 4],\n",
       "       [5, 6],\n",
       "       [4, 5]])"
      ]
     },
     "execution_count": 11,
     "metadata": {},
     "output_type": "execute_result"
    }
   ],
   "source": [
    "x = np.array([[1, 2], [3, 4]])\n",
    "y = np.array([[5, 6],[4,5]])\n",
    "np.concatenate((x, y), axis=0)"
   ]
  },
  {
   "cell_type": "markdown",
   "id": "efc9e68d-0f86-4688-81ff-3ac1250faea9",
   "metadata": {},
   "source": [
    "## How do you know the shape and size of an array?"
   ]
  },
  {
   "cell_type": "markdown",
   "id": "5d270f15-4d6b-454e-951d-27ddd502a743",
   "metadata": {},
   "source": [
    "- This section covers `ndarray.ndim`, `ndarray.size`, `ndarray.shape`\n",
    "\n",
    "- `ndarray.ndim` will tell you the number of axes, or dimensions, of the array.\n",
    "\n",
    "- `ndarray.size` will tell you the total number of elements of the array. This is the product of the elements of the array’s shape.\n",
    "\n",
    "- `ndarray.shape` will display a tuple of integers that indicate the number of elements stored along each dimension of the array. If, for example, you have a 2-D array with 2 rows and 3 columns, the shape of your array is `(2, 3)`."
   ]
  },
  {
   "cell_type": "code",
   "execution_count": 55,
   "id": "102d39c5-7017-4d81-9f86-98ed29224aa0",
   "metadata": {},
   "outputs": [],
   "source": [
    "array_example = np.array([[[0, 1, 2, 3],\n",
    "                           [4, 5, 6, 7]],\n",
    "\n",
    "                          [[0, 1, 2, 3],\n",
    "                           [4, 5, 6, 7]],\n",
    "\n",
    "                          [[0 ,1 ,2, 3],\n",
    "                           [4, 5, 6, 7]]])"
   ]
  },
  {
   "cell_type": "code",
   "execution_count": 56,
   "id": "11dd1e6b-a98c-46c6-9d0c-3f99553304d1",
   "metadata": {},
   "outputs": [
    {
     "data": {
      "text/plain": [
       "3"
      ]
     },
     "execution_count": 56,
     "metadata": {},
     "output_type": "execute_result"
    }
   ],
   "source": [
    "array_example.ndim"
   ]
  },
  {
   "cell_type": "code",
   "execution_count": 57,
   "id": "0aafd05a-a89a-4389-98db-237aa23dd36e",
   "metadata": {},
   "outputs": [
    {
     "data": {
      "text/plain": [
       "24"
      ]
     },
     "execution_count": 57,
     "metadata": {},
     "output_type": "execute_result"
    }
   ],
   "source": [
    "array_example.size"
   ]
  },
  {
   "cell_type": "code",
   "execution_count": 58,
   "id": "3fb692de-8921-460e-85a9-0ac097926fa7",
   "metadata": {},
   "outputs": [
    {
     "data": {
      "text/plain": [
       "(3, 2, 4)"
      ]
     },
     "execution_count": 58,
     "metadata": {},
     "output_type": "execute_result"
    }
   ],
   "source": [
    "array_example.shape"
   ]
  },
  {
   "cell_type": "markdown",
   "id": "a4efb946-e376-41d4-b959-56b760d74ce8",
   "metadata": {},
   "source": [
    "## Can you reshape an array?"
   ]
  },
  {
   "cell_type": "markdown",
   "id": "bb531215-6220-4e78-8cea-6795e1fc235b",
   "metadata": {},
   "source": [
    "Using `arr.reshape()` will give a new shape to an array without changing the data. Just remember that when you use the reshape method, the array you want to produce needs to have the same number of elements as the original array. If you start with an array with 12 elements, you’ll need to make sure that your new array also has a total of 12 elements."
   ]
  },
  {
   "cell_type": "code",
   "execution_count": 13,
   "id": "3bfde404-019b-4cbd-b278-308076532d78",
   "metadata": {},
   "outputs": [
    {
     "name": "stdout",
     "output_type": "stream",
     "text": [
      "[0 1 2 3 4 5]\n"
     ]
    }
   ],
   "source": [
    "a = np.arange(6)\n",
    "print(a)"
   ]
  },
  {
   "cell_type": "code",
   "execution_count": 19,
   "id": "b651a88e-bab0-4076-9ce0-f50c1738b187",
   "metadata": {},
   "outputs": [
    {
     "name": "stdout",
     "output_type": "stream",
     "text": [
      "[[0 1 2]\n",
      " [3 4 5]]\n"
     ]
    }
   ],
   "source": [
    "b = a.reshape(2, 3)\n",
    "print(b)"
   ]
  },
  {
   "cell_type": "code",
   "execution_count": 22,
   "id": "7c63ece7-d98f-449e-87f2-3b423cf52f8e",
   "metadata": {},
   "outputs": [
    {
     "name": "stdout",
     "output_type": "stream",
     "text": [
      "[[ 1  2  3  4  5  6  7]\n",
      " [11  9 10 11 12 13 16]]\n"
     ]
    }
   ],
   "source": [
    "#Convert the following 1-D array with 12 elements into a 2-D array.\n",
    "arr = np.array([1, 2, 3, 4, 5, 6, 7, 11, 9, 10, 11, 12, 13, 16])\n",
    "\n",
    "newarr = arr.reshape(2, 7)\n",
    "\n",
    "print(newarr)"
   ]
  },
  {
   "cell_type": "code",
   "execution_count": 28,
   "id": "a17bd406-af7a-4354-87f5-6722a4bf9483",
   "metadata": {},
   "outputs": [
    {
     "name": "stdout",
     "output_type": "stream",
     "text": [
      "[[[ 1]\n",
      "  [ 2]\n",
      "  [ 3]\n",
      "  [ 4]\n",
      "  [ 5]\n",
      "  [ 6]\n",
      "  [ 7]\n",
      "  [ 8]\n",
      "  [ 9]\n",
      "  [10]\n",
      "  [11]\n",
      "  [12]]]\n"
     ]
    }
   ],
   "source": [
    "#Convert the following 1-D array with 12 elements into a 3-D array.\n",
    "#The outermost dimension will have 2 arrays that contains 3 arrays, \n",
    "#each with 2 elements:\n",
    "arr = np.array([1, 2, 3, 4, 5, 6, 7, 8, 9, 10, 11, 12])\n",
    "\n",
    "newarr = arr.reshape(1, 12, 1)\n",
    "\n",
    "print(newarr)"
   ]
  },
  {
   "cell_type": "code",
   "execution_count": 65,
   "id": "ede23d65-2cd2-4c64-b3f2-e989b850e3aa",
   "metadata": {},
   "outputs": [],
   "source": [
    "# Python Program to create\n",
    "# a data type object\n",
    "x = np.array([[1,2],[3,4]], dtype=np.float64)\n",
    "y = np.array([[5,6],[7,8]], dtype=np.float64)"
   ]
  },
  {
   "cell_type": "code",
   "execution_count": 66,
   "id": "037b99a7-b1cc-4518-8f33-3f86ec7b5df7",
   "metadata": {},
   "outputs": [
    {
     "name": "stdout",
     "output_type": "stream",
     "text": [
      "[[ 6.  8.]\n",
      " [10. 12.]]\n",
      "[[ 6.  8.]\n",
      " [10. 12.]]\n"
     ]
    }
   ],
   "source": [
    "# Addition of two Arrays\n",
    "print(x + y)\n",
    "print(np.add(x, y))"
   ]
  },
  {
   "cell_type": "code",
   "execution_count": 67,
   "id": "68ba5567-1735-42a4-b4e2-57291e3d9a4b",
   "metadata": {},
   "outputs": [
    {
     "name": "stdout",
     "output_type": "stream",
     "text": [
      "[[-4. -4.]\n",
      " [-4. -4.]]\n",
      "[[-4. -4.]\n",
      " [-4. -4.]]\n"
     ]
    }
   ],
   "source": [
    "# subtract of the elements\n",
    "print(x - y)\n",
    "print(np.subtract(x, y))"
   ]
  },
  {
   "cell_type": "code",
   "execution_count": 68,
   "id": "760cf2c6-3080-47d6-8efd-3225ed036333",
   "metadata": {},
   "outputs": [
    {
     "name": "stdout",
     "output_type": "stream",
     "text": [
      "[[ 5. 12.]\n",
      " [21. 32.]]\n",
      "[[ 5. 12.]\n",
      " [21. 32.]]\n"
     ]
    }
   ],
   "source": [
    "#multiplication or  product\n",
    "print(x * y)\n",
    "print(np.multiply(x, y))"
   ]
  },
  {
   "cell_type": "code",
   "execution_count": 69,
   "id": "c32a8163-4b6a-4b88-9047-c2419565a99b",
   "metadata": {},
   "outputs": [
    {
     "name": "stdout",
     "output_type": "stream",
     "text": [
      "[[0.2        0.33333333]\n",
      " [0.42857143 0.5       ]]\n",
      "[[0.2        0.33333333]\n",
      " [0.42857143 0.5       ]]\n"
     ]
    }
   ],
   "source": [
    "#division\n",
    "print(x / y)\n",
    "print(np.divide(x, y))"
   ]
  },
  {
   "cell_type": "code",
   "execution_count": 70,
   "id": "53af7636-ece5-41bf-8927-8ba352be57a3",
   "metadata": {},
   "outputs": [
    {
     "name": "stdout",
     "output_type": "stream",
     "text": [
      "[[1.         1.41421356]\n",
      " [1.73205081 2.        ]]\n",
      "[[2.23606798 2.44948974]\n",
      " [2.64575131 2.82842712]]\n"
     ]
    }
   ],
   "source": [
    "#square root\n",
    "print(np.sqrt(x))\n",
    "print(np.sqrt(y))"
   ]
  },
  {
   "cell_type": "code",
   "execution_count": 71,
   "id": "0445b531-dd13-4ab7-973e-d9af242f8701",
   "metadata": {},
   "outputs": [
    {
     "name": "stdout",
     "output_type": "stream",
     "text": [
      "[0 1 2 3]\n"
     ]
    }
   ],
   "source": [
    "arr = np.array([3, 2, 0, 1])\n",
    "print(np.sort(arr))"
   ]
  },
  {
   "cell_type": "code",
   "execution_count": 72,
   "id": "74fce684-60cd-4213-866d-f658f49294d5",
   "metadata": {},
   "outputs": [
    {
     "name": "stdout",
     "output_type": "stream",
     "text": [
      "[2 3 4 5]\n"
     ]
    }
   ],
   "source": [
    "#Slice elements from index 1 to index 5 from the following array:\n",
    "arr = np.array([1, 2, 3, 4, 5, 6, 7])\n",
    "print(arr[1:5])"
   ]
  },
  {
   "cell_type": "code",
   "execution_count": 73,
   "id": "f7ce5dc3-7d6e-4d57-8d2b-1f1c23672c5b",
   "metadata": {},
   "outputs": [
    {
     "name": "stdout",
     "output_type": "stream",
     "text": [
      "[5 6 7]\n"
     ]
    }
   ],
   "source": [
    "#Slice elements from index 4 to the end of the array:\n",
    "arr = np.array([1, 2, 3, 4, 5, 6, 7])\n",
    "\n",
    "print(arr[4:])"
   ]
  },
  {
   "cell_type": "code",
   "execution_count": 74,
   "id": "44bbae6b-459b-43a9-ab62-d150f8b393cc",
   "metadata": {},
   "outputs": [
    {
     "name": "stdout",
     "output_type": "stream",
     "text": [
      "[1 2 3 4]\n"
     ]
    }
   ],
   "source": [
    "#Slice elements from the beginning to index 4 (not included):\n",
    "arr = np.array([1, 2, 3, 4, 5, 6, 7])\n",
    "\n",
    "print(arr[:4])"
   ]
  },
  {
   "cell_type": "markdown",
   "id": "62a13e79-1cb6-4b02-b7c3-de50b0fc6fed",
   "metadata": {},
   "source": [
    "### Negative Slicing"
   ]
  },
  {
   "cell_type": "code",
   "execution_count": 29,
   "id": "ccb9cbba-5556-4cc2-86c5-1bb5c9757c89",
   "metadata": {},
   "outputs": [
    {
     "name": "stdout",
     "output_type": "stream",
     "text": [
      "   values  mean_filled  median_filled\n",
      "0    10.0         10.0           10.0\n",
      "1    15.0         15.0           15.0\n",
      "2     NaN        214.0           20.0\n",
      "3  1000.0       1000.0         1000.0\n",
      "4    20.0         20.0           20.0\n",
      "5    25.0         25.0           25.0\n",
      "6     NaN        214.0           20.0\n"
     ]
    }
   ],
   "source": [
    "import pandas as pd\n",
    "import numpy as np\n",
    "\n",
    "# Sample data with missing values\n",
    "data = {'values': [10, 15, np.nan, 1000, 20, 25, np.nan]}\n",
    "df = pd.DataFrame(data)\n",
    "\n",
    "# Fill missing values with mean\n",
    "df['mean_filled'] = df['values'].fillna(df['values'].mean())\n",
    "\n",
    "# Fill missing values with median\n",
    "df['median_filled'] = df['values'].fillna(df['values'].median())\n",
    "\n",
    "print(df)\n"
   ]
  },
  {
   "cell_type": "code",
   "execution_count": 4,
   "id": "cc94a74f-b153-4e60-8909-ece9afe6b569",
   "metadata": {},
   "outputs": [
    {
     "name": "stdout",
     "output_type": "stream",
     "text": [
      "   Values  mean_value  meadian_value\n",
      "0    10.0        10.0           10.0\n",
      "1    15.0        15.0           15.0\n",
      "2     NaN       214.0           20.0\n",
      "3  1000.0      1000.0         1000.0\n",
      "4    20.0        20.0           20.0\n",
      "5    25.0        25.0           25.0\n",
      "6     NaN       214.0           20.0\n"
     ]
    }
   ],
   "source": [
    "import pandas as pd\n",
    "import numpy as np\n",
    "\n",
    "\n",
    "data = {'Values':[10,15,np.nan,1000,20,25,np.nan]}\n",
    "\n",
    "df = pd.DataFrame(data)\n",
    "\n",
    "df['mean_value'] = df['Values'].fillna(df['Values'].mean())\n",
    "df['meadian_value'] = df['Values'].fillna(df['Values'].median())\n",
    "\n",
    "print(df)"
   ]
  },
  {
   "cell_type": "code",
   "execution_count": null,
   "id": "279f300e-4665-4ee5-ac6a-2494b58a7482",
   "metadata": {},
   "outputs": [],
   "source": []
  }
 ],
 "metadata": {
  "kernelspec": {
   "display_name": "Python 3 (ipykernel)",
   "language": "python",
   "name": "python3"
  },
  "language_info": {
   "codemirror_mode": {
    "name": "ipython",
    "version": 3
   },
   "file_extension": ".py",
   "mimetype": "text/x-python",
   "name": "python",
   "nbconvert_exporter": "python",
   "pygments_lexer": "ipython3",
   "version": "3.12.4"
  }
 },
 "nbformat": 4,
 "nbformat_minor": 5
}
